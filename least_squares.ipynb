{
 "cells": [
  {
   "cell_type": "code",
   "execution_count": 1,
   "metadata": {
    "collapsed": false
   },
   "outputs": [],
   "source": [
    "import random\n",
    "import numpy as np\n",
    "from matplotlib import pyplot as plt"
   ]
  },
  {
   "cell_type": "code",
   "execution_count": 2,
   "metadata": {
    "collapsed": true
   },
   "outputs": [],
   "source": [
    "def solve(X, y):\n",
    "    C = np.dot(np.transpose(X),X)\n",
    "    G = np.linalg.inv(C)\n",
    "    G = G * np.dia\n",
    "\n",
    "    B = np.dot(np.dot(G, np.transpose(X)),Y)\n",
    "    return B"
   ]
  },
  {
   "cell_type": "code",
   "execution_count": 12,
   "metadata": {
    "collapsed": false
   },
   "outputs": [
    {
     "name": "stdout",
     "output_type": "stream",
     "text": [
      "[[ 1.   1.   1.   1.   1.   1.   1.   1.   1.   1.   1.   1.   1.   1.   1.\n",
      "   1.   1.   1.   1.   1.   1.   1.   1.   1.   1.   1. ]\n",
      " [ 0.   0.2  0.4  0.6  0.8  1.   1.2  1.4  1.6  1.8  2.   2.2  2.4  2.6\n",
      "   2.8  3.   3.2  3.4  3.6  3.8  4.   4.2  4.4  4.6  4.8  5. ]]\n",
      "[ 10.42798547  10.47519633  10.16122899   8.95687697   8.70570461\n",
      "   8.9761101    8.4129205    7.7999329    7.59427712   7.23502128\n",
      "   6.26007505   5.93097887   5.88298436   4.9151664    4.94741537\n",
      "   4.89185354   4.10105862   3.86427319   2.92736714   3.35715506\n",
      "   2.25070674   2.34354121   2.17390506   1.68923028   1.17705906\n",
      "   0.40388351]\n"
     ]
    }
   ],
   "source": [
    "# generate x and Y values for y=2x+5+E\n",
    "l = 26\n",
    "x0 = np.array([1 for _ in range(l)])\n",
    "x1 = np.array([x/5 for x in range(l)]) # from 0 to 5, step 0.2\n",
    "X = np.array([[x0[i], x1[i]] for i in range(len(x1))])\n",
    "Y = np.array([-2*x+11+random.random()-1 for x in x1])\n",
    "\n",
    "print(X.T)\n",
    "print(Y)"
   ]
  },
  {
   "cell_type": "code",
   "execution_count": 5,
   "metadata": {
    "collapsed": false
   },
   "outputs": [
    {
     "name": "stdout",
     "output_type": "stream",
     "text": [
      "[ 10.6537638   -2.03499802]\n"
     ]
    }
   ],
   "source": [
    "B = solve(X, Y)\n",
    "print(B)"
   ]
  },
  {
   "cell_type": "code",
   "execution_count": 13,
   "metadata": {
    "collapsed": true
   },
   "outputs": [],
   "source": [
    "def twodots(X, B):  # duct-tape for plot\n",
    "    X, Y = X[:, 1], np.dot(X,B)\n",
    "    xs = [X[0], X[-1]]\n",
    "    ys = [Y[0], Y[-1]]\n",
    "    return xs, ys"
   ]
  },
  {
   "cell_type": "code",
   "execution_count": 14,
   "metadata": {
    "collapsed": false
   },
   "outputs": [
    {
     "data": {
      "image/png": "[encoded data removed]",
      "text/plain": [
       "<matplotlib.figure.Figure at 0x105fc6e48>"
      ]
     },
     "metadata": {},
     "output_type": "display_data"
    }
   ],
   "source": [
    "plt.figure()\n",
    "plt.scatter(x=X[:, 1], y=Y)\n",
    "plt.plot(twodots(X, B)[0], twodots(X, B)[1])  # plot(x, y)\n",
    "plt.show()"
   ]
  },
  {
   "cell_type": "code",
   "execution_count": null,
   "metadata": {
    "collapsed": true
   },
   "outputs": [],
   "source": []
  }
 ],
 "metadata": {
  "kernelspec": {
   "display_name": "Python 3",
   "language": "python",
   "name": "python3"
  },
  "language_info": {
   "codemirror_mode": {
    "name": "ipython",
    "version": 3
   },
   "file_extension": ".py",
   "mimetype": "text/x-python",
   "name": "python",
   "nbconvert_exporter": "python",
   "pygments_lexer": "ipython3",
   "version": "3.5.2"
  }
 },
 "nbformat": 4,
 "nbformat_minor": 2
}
