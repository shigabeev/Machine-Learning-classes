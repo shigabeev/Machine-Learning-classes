{
 "cells": [
  {
   "cell_type": "code",
   "execution_count": 1,
   "metadata": {
    "collapsed": false
   },
   "outputs": [],
   "source": [
    "import random\n",
    "import numpy as np\n",
    "from matplotlib import pyplot as plt"
   ]
  },
  {
   "cell_type": "code",
   "execution_count": 2,
   "metadata": {
    "collapsed": true
   },
   "outputs": [],
   "source": [
    "import least_squares as ls   # local file !!"
   ]
  },
  {
   "cell_type": "code",
   "execution_count": 3,
   "metadata": {
    "collapsed": false
   },
   "outputs": [
    {
     "name": "stdout",
     "output_type": "stream",
     "text": [
      "[[ 1.   1.   1.   1.   1.   1.   1.   1.   1.   1.   1.   1.   1.   1.   1.\n",
      "   1.   1.   1.   1.   1.   1.   1.   1.   1.   1.   1. ]\n",
      " [ 0.   0.2  0.4  0.6  0.8  1.   1.2  1.4  1.6  1.8  2.   2.2  2.4  2.6\n",
      "   2.8  3.   3.2  3.4  3.6  3.8  4.   4.2  4.4  4.6  4.8  5. ]]\n",
      "[ 10.64098803   9.82596459   9.76328515   9.23965788   8.78096668\n",
      "   8.04352508   7.82221423   7.35048885   7.65583709   6.45878998\n",
      "   6.30966837   5.7980682    5.38714586   5.2707871    5.20634904\n",
      "   4.10402783   4.46278084   4.03222133   3.32210749   2.90553101\n",
      "   2.11454913   2.06088964   2.07462358   1.54650555   1.04198785\n",
      "   0.62754913]\n"
     ]
    }
   ],
   "source": [
    "# generate x and Y values for y=2x+5+E\n",
    "l = 26\n",
    "x0 = np.array([1 for _ in range(l)])\n",
    "x1 = np.array([x/5 for x in range(l)]) # from 0 to 5, step 0.2\n",
    "X = np.array([[x0[i], x1[i]] for i in range(len(x1))])\n",
    "Y = np.array([-2*x+11+random.random()-1 for x in x1])\n",
    "\n",
    "print(X.T)\n",
    "print(Y)"
   ]
  },
  {
   "cell_type": "code",
   "execution_count": 4,
   "metadata": {
    "collapsed": false
   },
   "outputs": [],
   "source": [
    "B = ls.solve(X, Y)"
   ]
  },
  {
   "cell_type": "code",
   "execution_count": 5,
   "metadata": {
    "collapsed": false
   },
   "outputs": [
    {
     "data": {
      "image/png": "[encoded data removed]",
      "text/plain": [
       "<matplotlib.figure.Figure at 0x106182048>"
      ]
     },
     "metadata": {},
     "output_type": "display_data"
    }
   ],
   "source": [
    "ls.show(X, Y, B)"
   ]
  },
  {
   "cell_type": "code",
   "execution_count": null,
   "metadata": {
    "collapsed": true
   },
   "outputs": [],
   "source": []
  }
 ],
 "metadata": {
  "kernelspec": {
   "display_name": "Python 3",
   "language": "python",
   "name": "python3"
  },
  "language_info": {
   "codemirror_mode": {
    "name": "ipython",
    "version": 3
   },
   "file_extension": ".py",
   "mimetype": "text/x-python",
   "name": "python",
   "nbconvert_exporter": "python",
   "pygments_lexer": "ipython3",
   "version": "3.5.2"
  }
 },
 "nbformat": 4,
 "nbformat_minor": 2
}
