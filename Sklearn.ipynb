{
 "cells": [
  {
   "cell_type": "markdown",
   "metadata": {},
   "source": [
    "1. Картинка на PCA\n",
    "2. 3 алгоритма\n",
    "3. Метрика"
   ]
  },
  {
   "cell_type": "code",
   "execution_count": 1,
   "metadata": {},
   "outputs": [],
   "source": [
    "import numpy as np\n",
    "import csv\n",
    "from sklearn.svm import SVC\n",
    "from sklearn.model_selection import train_test_split\n",
    "import matplotlib.pyplot as plt\n",
    "from sklearn.decomposition import PCA"
   ]
  },
  {
   "cell_type": "markdown",
   "metadata": {},
   "source": [
    "# Gather Data"
   ]
  },
  {
   "cell_type": "code",
   "execution_count": 2,
   "metadata": {},
   "outputs": [],
   "source": [
    "blood = []\n",
    "with open(\"blood/transfusion.data\", 'r') as fn:\n",
    "  raw_blood = csv.reader(fn, delimiter = ',')\n",
    "  for line in raw_blood:\n",
    "    blood.append(line)"
   ]
  },
  {
   "cell_type": "markdown",
   "metadata": {},
   "source": [
    "Immediately split it into train/test"
   ]
  },
  {
   "cell_type": "code",
   "execution_count": 3,
   "metadata": {},
   "outputs": [],
   "source": [
    "b_labels = blood[0]\n",
    "b_data = blood[1:]\n",
    "b_target = np.array([i[-1] for i in b_data])\n",
    "b_target = b_target.astype(np.float32)\n",
    "b_data = np.array([i[:-1] for i in b_data])\n",
    "b_data = b_data.astype(np.float32)\n",
    "\n",
    "X_train, X_test, y_train, y_test = train_test_split(\n",
    "    b_data, b_target, test_size=0.4, random_state=0)"
   ]
  },
  {
   "cell_type": "markdown",
   "metadata": {},
   "source": [
    "# Visualize data with PCA"
   ]
  },
  {
   "cell_type": "code",
   "execution_count": 4,
   "metadata": {},
   "outputs": [
    {
     "name": "stdout",
     "output_type": "stream",
     "text": [
      "explained variance ratio (first two components): [  9.99801934e-01   1.70992673e-04]\n"
     ]
    }
   ],
   "source": [
    "pca = PCA(n_components=2)\n",
    "X_r = pca.fit(b_data).transform(b_data)\n",
    "print('explained variance ratio (first two components): %s'\n",
    "      % str(pca.explained_variance_ratio_))"
   ]
  },
  {
   "cell_type": "code",
   "execution_count": 5,
   "metadata": {},
   "outputs": [
    {
     "data": {
      "image/png": "[encoded data removed]",
      "text/plain": [
       "<matplotlib.figure.Figure at 0x108f4ecf8>"
      ]
     },
     "metadata": {},
     "output_type": "display_data"
    }
   ],
   "source": [
    "# Visualize\n",
    "plt.figure()\n",
    "plt.xscale('log')\n",
    "colors = ['red', 'green']\n",
    "lw = 2\n",
    "\n",
    "for color, i, target_name in zip(colors, [0, 1], [\"Yes\", \"No\"]):\n",
    "  plt.scatter(X_r[b_target == i, 0], X_r[b_target == i, 1], color=color, alpha=.8, lw=lw,\n",
    "                label=target_name)\n",
    "plt.show()"
   ]
  },
  {
   "cell_type": "markdown",
   "metadata": {},
   "source": [
    "Here on graph green are those who applied."
   ]
  },
  {
   "cell_type": "markdown",
   "metadata": {},
   "source": [
    "# SVM Classifier"
   ]
  },
  {
   "cell_type": "code",
   "execution_count": 6,
   "metadata": {},
   "outputs": [
    {
     "data": {
      "text/plain": [
       "0.7533333333333333"
      ]
     },
     "execution_count": 6,
     "metadata": {},
     "output_type": "execute_result"
    }
   ],
   "source": [
    "svm = SVC(kernel='linear', C=1).fit(X_train, y_train)\n",
    "svm.score(X_test, y_test)"
   ]
  },
  {
   "cell_type": "code",
   "execution_count": 8,
   "metadata": {},
   "outputs": [
    {
     "ename": "IndexError",
     "evalue": "in the future, 0-d boolean arrays will be interpreted as a valid boolean index",
     "output_type": "error",
     "traceback": [
      "\u001b[0;31m---------------------------------------------------------------------------\u001b[0m",
      "\u001b[0;31mIndexError\u001b[0m                                Traceback (most recent call last)",
      "\u001b[0;32m<ipython-input-8-3dabbcf7d29d>\u001b[0m in \u001b[0;36m<module>\u001b[0;34m()\u001b[0m\n\u001b[1;32m      8\u001b[0m \u001b[0;34m\u001b[0m\u001b[0m\n\u001b[1;32m      9\u001b[0m \u001b[0;32mfor\u001b[0m \u001b[0mcolor\u001b[0m\u001b[0;34m,\u001b[0m \u001b[0mi\u001b[0m\u001b[0;34m,\u001b[0m \u001b[0mtarget_name\u001b[0m \u001b[0;32min\u001b[0m \u001b[0mzip\u001b[0m\u001b[0;34m(\u001b[0m\u001b[0mcolors\u001b[0m\u001b[0;34m,\u001b[0m \u001b[0;34m[\u001b[0m\u001b[0;36m0\u001b[0m\u001b[0;34m,\u001b[0m \u001b[0;36m1\u001b[0m\u001b[0;34m]\u001b[0m\u001b[0;34m,\u001b[0m \u001b[0;34m[\u001b[0m\u001b[0;34m\"Yes\"\u001b[0m\u001b[0;34m,\u001b[0m \u001b[0;34m\"No\"\u001b[0m\u001b[0;34m]\u001b[0m\u001b[0;34m)\u001b[0m\u001b[0;34m:\u001b[0m\u001b[0;34m\u001b[0m\u001b[0m\n\u001b[0;32m---> 10\u001b[0;31m   plt.scatter(X_r[svm_pred == i, 0], X_r[svm_pred == i, 1], color=color, alpha=.8, lw=lw,\n\u001b[0m\u001b[1;32m     11\u001b[0m                 label=target_name)\n\u001b[1;32m     12\u001b[0m \u001b[0mplt\u001b[0m\u001b[0;34m.\u001b[0m\u001b[0mshow\u001b[0m\u001b[0;34m(\u001b[0m\u001b[0;34m)\u001b[0m\u001b[0;34m\u001b[0m\u001b[0m\n",
      "\u001b[0;31mIndexError\u001b[0m: in the future, 0-d boolean arrays will be interpreted as a valid boolean index"
     ]
    }
   ],
   "source": [
    "# Visualize\n",
    "plt.figure()\n",
    "plt.xscale('log')\n",
    "colors = ['red', 'green']\n",
    "lw = 2\n",
    "svm_pred = [svm.predict([x]) for x in b_data]\n",
    "\n",
    "\n",
    "for color, i, target_name in zip(colors, [0, 1], [\"Yes\", \"No\"]):\n",
    "  plt.scatter(X_r[svm_pred == i, 0], X_r[svm_pred == i, 1], color=color, alpha=.8, lw=lw,\n",
    "                label=target_name)\n",
    "plt.show()"
   ]
  },
  {
   "cell_type": "code",
   "execution_count": 14,
   "metadata": {},
   "outputs": [
    {
     "data": {
      "text/plain": [
       "0.7533333333333333"
      ]
     },
     "execution_count": 14,
     "metadata": {},
     "output_type": "execute_result"
    }
   ],
   "source": [
    "svm.score(X_test, y_test)"
   ]
  },
  {
   "cell_type": "markdown",
   "metadata": {},
   "source": [
    "# KNN"
   ]
  },
  {
   "cell_type": "code",
   "execution_count": 15,
   "metadata": {},
   "outputs": [
    {
     "name": "stdout",
     "output_type": "stream",
     "text": [
      "n_neighbours =  1  score:  0.68\n",
      "n_neighbours =  2  score:  0.783333333333\n",
      "n_neighbours =  3  score:  0.676666666667\n",
      "n_neighbours =  4  score:  0.746666666667\n",
      "n_neighbours =  5  score:  0.646666666667\n",
      "n_neighbours =  6  score:  0.75\n",
      "n_neighbours =  7  score:  0.753333333333\n",
      "n_neighbours =  8  score:  0.78\n",
      "n_neighbours =  9  score:  0.763333333333\n",
      "n_neighbours =  10  score:  0.793333333333\n",
      "n_neighbours =  11  score:  0.793333333333\n",
      "n_neighbours =  12  score:  0.766666666667\n",
      "n_neighbours =  13  score:  0.78\n",
      "n_neighbours =  14  score:  0.753333333333\n"
     ]
    }
   ],
   "source": [
    "from sklearn.neighbors import KNeighborsClassifier\n",
    "for i in range(1,15):\n",
    "  neigh = KNeighborsClassifier(n_neighbors=i)\n",
    "  neigh.fit(X_train, y_train)\n",
    "  print(\"n_neighbours = \", i, \" score: \", neigh.score(X_test, y_test))"
   ]
  },
  {
   "cell_type": "code",
   "execution_count": 16,
   "metadata": {},
   "outputs": [],
   "source": [
    "from sklearn import linear_model"
   ]
  },
  {
   "cell_type": "code",
   "execution_count": 17,
   "metadata": {},
   "outputs": [
    {
     "data": {
      "text/plain": [
       "0.7745535714285714"
      ]
     },
     "execution_count": 17,
     "metadata": {},
     "output_type": "execute_result"
    }
   ],
   "source": [
    "logreg = linear_model.LogisticRegression()\n",
    "logreg.fit(X_train, y_train)\n",
    "logreg.score(X_train, y_train)"
   ]
  },
  {
   "cell_type": "code",
   "execution_count": 18,
   "metadata": {},
   "outputs": [
    {
     "data": {
      "text/plain": [
       "{'C': 1.0,\n",
       " 'class_weight': None,\n",
       " 'dual': False,\n",
       " 'fit_intercept': True,\n",
       " 'intercept_scaling': 1,\n",
       " 'max_iter': 100,\n",
       " 'multi_class': 'ovr',\n",
       " 'n_jobs': 1,\n",
       " 'penalty': 'l2',\n",
       " 'random_state': None,\n",
       " 'solver': 'liblinear',\n",
       " 'tol': 0.0001,\n",
       " 'verbose': 0,\n",
       " 'warm_start': False}"
      ]
     },
     "execution_count": 18,
     "metadata": {},
     "output_type": "execute_result"
    }
   ],
   "source": [
    "logreg.get_params(deep=True)"
   ]
  },
  {
   "cell_type": "markdown",
   "metadata": {},
   "source": [
    "# Stochastic\n",
    "'Cause we don't want to wait"
   ]
  },
  {
   "cell_type": "code",
   "execution_count": 19,
   "metadata": {},
   "outputs": [],
   "source": [
    "from sklearn.linear_model import SGDClassifier"
   ]
  },
  {
   "cell_type": "code",
   "execution_count": 20,
   "metadata": {},
   "outputs": [
    {
     "data": {
      "text/plain": [
       "0.7533333333333333"
      ]
     },
     "execution_count": 20,
     "metadata": {},
     "output_type": "execute_result"
    }
   ],
   "source": [
    "clf = SGDClassifier(loss = \"log\", max_iter=50)\n",
    "clf.fit(X_train, y_train)\n",
    "clf.score(X_test, y_test)"
   ]
  },
  {
   "cell_type": "code",
   "execution_count": 23,
   "metadata": {},
   "outputs": [
    {
     "name": "stdout",
     "output_type": "stream",
     "text": [
      "[   4.    3.  750.   28.] 0.0\n",
      "[  2.00000000e+00   1.10000000e+01   2.75000000e+03   4.10000000e+01] 0.0\n",
      "[    2.     6.  1500.    15.] 1.0\n",
      "[    4.    10.  2500.    28.] 1.0\n",
      "[  2.00000000e+00   4.10000000e+01   1.02500000e+04   9.80000000e+01] 1.0\n",
      "[   2.    2.  500.    4.] 1.0\n",
      "[  14.    1.  250.   14.] 0.0\n",
      "[   2.    2.  500.    4.] 1.0\n",
      "[  23.    3.  750.   40.] 0.0\n",
      "[    4.    12.  3000.    34.] 1.0\n",
      "[   11.     6.  1500.    41.] 0.0\n",
      "[   14.     4.  1000.    38.] 0.0\n",
      "[   2.    1.  250.    2.] 1.0\n",
      "[    4.    13.  3250.    39.] 1.0\n",
      "[  2.00000000e+00   1.30000000e+01   3.25000000e+03   5.30000000e+01] 0.0\n",
      "[   23.     8.  2000.    69.] 0.0\n",
      "[   8.    2.  500.   16.] 0.0\n",
      "[  21.    1.  250.   21.] 0.0\n",
      "[   14.     7.  1750.    72.] 0.0\n",
      "[    4.     8.  2000.    40.] 0.0\n",
      "[   11.     7.  1750.    64.] 0.0\n",
      "[  11.    2.  500.   11.] 0.0\n",
      "[  11.    1.  250.   11.] 0.0\n",
      "[   4.    1.  250.    4.] 0.0\n",
      "[   6.    3.  750.   26.] 0.0\n",
      "[   14.     8.  2000.    26.] 0.0\n",
      "[   2.    1.  250.    2.] 1.0\n",
      "[  4.00000000e+00   1.90000000e+01   4.75000000e+03   6.90000000e+01] 0.0\n",
      "[  18.    2.  500.   23.] 0.0\n",
      "[   11.     7.  1750.    62.] 0.0\n",
      "[  2.00000000e+00   9.00000000e+00   2.25000000e+03   2.20000000e+01] 1.0\n",
      "[   4.    2.  500.   31.] 0.0\n",
      "[  38.    1.  250.   38.] 0.0\n",
      "[    4.     6.  1500.    35.] 0.0\n",
      "[   2.    3.  750.   77.] 0.0\n",
      "[   4.    1.  250.    4.] 0.0\n",
      "[  16.    1.  250.   16.] 0.0\n",
      "[    4.    14.  3500.    86.] 0.0\n",
      "[   7.    2.  500.   16.] 0.0\n",
      "[  16.    1.  250.   16.] 0.0\n",
      "[  11.    2.  500.   11.] 0.0\n",
      "[   10.     5.  1250.    38.] 0.0\n",
      "[   4.    1.  250.    4.] 0.0\n",
      "[    0.    13.  3250.    28.] 1.0\n",
      "[   11.     4.  1000.    58.] 0.0\n",
      "[   14.     5.  1250.    74.] 0.0\n",
      "[    4.     6.  1500.    46.] 0.0\n",
      "[  14.    2.  500.   14.] 0.0\n",
      "[  3.00000000e+00   1.40000000e+01   3.50000000e+03   3.50000000e+01] 1.0\n",
      "[   11.     8.  2000.    41.] 0.0\n",
      "[  21.    3.  750.   26.] 0.0\n",
      "[    9.     8.  2000.    38.] 0.0\n",
      "[  11.    2.  500.   14.] 0.0\n",
      "[  11.    1.  250.   11.] 0.0\n",
      "[   16.     5.  1250.    40.] 0.0\n",
      "[    2.     8.  2000.    38.] 0.0\n",
      "[   4.    2.  500.   46.] 0.0\n",
      "[   11.     5.  1250.    18.] 0.0\n",
      "[   11.     5.  1250.    50.] 0.0\n",
      "[  14.    2.  500.   14.] 0.0\n",
      "[    4.     5.  1250.    58.] 0.0\n",
      "[   2.    1.  250.    2.] 1.0\n",
      "[    2.     6.  1500.    28.] 0.0\n",
      "[  2.00000000e+00   1.20000000e+01   3.00000000e+03   7.00000000e+01] 0.0\n",
      "[   4.    1.  250.    4.] 0.0\n",
      "[   4.    1.  250.    4.] 0.0\n",
      "[  14.    2.  500.   14.] 0.0\n",
      "[  14.    2.  500.   14.] 0.0\n",
      "[  23.    2.  500.   87.] 0.0\n",
      "[    0.    26.  6500.    76.] 1.0\n",
      "[   23.    15.  3750.    57.] 0.0\n",
      "[   11.     9.  2250.    72.] 0.0\n",
      "[   2.    1.  250.    2.] 1.0\n",
      "[    2.     6.  1500.    45.] 0.0\n",
      "[   4.    2.  500.   41.] 0.0\n",
      "[   4.    1.  250.    4.] 0.0\n",
      "[   14.     5.  1250.    14.] 0.0\n",
      "[  16.    2.  500.   16.] 0.0\n",
      "[  2.00000000e+00   1.50000000e+01   3.75000000e+03   6.40000000e+01] 0.0\n",
      "[    2.     6.  1500.    26.] 0.0\n",
      "[    2.     6.  1500.    15.] 1.0\n",
      "[   11.    17.  4250.    79.] 0.0\n",
      "[    2.     5.  1250.    26.] 0.0\n",
      "[   2.    3.  750.   52.] 0.0\n",
      "[    2.     5.  1250.    16.] 1.0\n",
      "[  2.00000000e+00   1.10000000e+01   2.75000000e+03   4.60000000e+01] 0.0\n",
      "[   4.    1.  250.    4.] 0.0\n",
      "[    2.     6.  1500.    28.] 0.0\n",
      "[  23.    3.  750.   28.] 0.0\n",
      "[  74.    1.  250.   74.] 0.0\n",
      "[   16.     4.  1000.    28.] 0.0\n",
      "[  35.    3.  750.   64.] 0.0\n",
      "[  4.00000000e+00   2.30000000e+01   5.75000000e+03   5.80000000e+01] 1.0\n",
      "[    4.     7.  1750.    25.] 0.0\n",
      "[  2.00000000e+00   4.30000000e+01   1.07500000e+04   8.60000000e+01] 1.0\n",
      "[  2.00000000e+00   1.10000000e+01   2.75000000e+03   4.00000000e+01] 0.0\n",
      "[  2.00000000e+00   1.10000000e+01   2.75000000e+03   2.60000000e+01] 1.0\n",
      "[   23.     7.  1750.    88.] 0.0\n",
      "[    7.    14.  3500.    48.] 0.0\n",
      "[   2.    1.  250.    2.] 1.0\n",
      "[    4.     5.  1250.    16.] 0.0\n",
      "[   14.    18.  4500.    78.] 0.0\n",
      "[   3.    2.  500.   23.] 0.0\n",
      "[   6.    2.  500.   11.] 0.0\n",
      "[  14.    1.  250.   14.] 0.0\n",
      "[   11.     4.  1000.    59.] 0.0\n",
      "[  23.    1.  250.   23.] 0.0\n",
      "[   2.    2.  500.   11.] 0.0\n",
      "[    4.     7.  1750.    32.] 0.0\n",
      "[   25.     6.  1500.    50.] 0.0\n",
      "[   2.    1.  250.    2.] 1.0\n",
      "[  21.    1.  250.   21.] 0.0\n",
      "[   14.     6.  1500.    51.] 0.0\n",
      "[  14.    1.  250.   14.] 0.0\n",
      "[   11.    11.  2750.    38.] 0.0\n",
      "[   21.     5.  1250.    60.] 0.0\n",
      "[    2.     4.  1000.    16.] 0.0\n",
      "[   2.    2.  500.    2.] 1.0\n",
      "[  21.    1.  250.   21.] 0.0\n",
      "[  23.    3.  750.   89.] 0.0\n",
      "[    2.     6.  1500.    41.] 0.0\n",
      "[    4.     9.  2250.    52.] 0.0\n",
      "[  13.    3.  750.   14.] 0.0\n",
      "[   23.     4.  1000.    45.] 0.0\n",
      "[    4.     6.  1500.    16.] 1.0\n",
      "[  11.    2.  500.   21.] 0.0\n",
      "[   2.    2.  500.    2.] 1.0\n",
      "[   4.    1.  250.    4.] 0.0\n",
      "[   16.    16.  4000.    77.] 0.0\n",
      "[   16.     7.  1750.    28.] 0.0\n",
      "[   11.    11.  2750.    42.] 0.0\n",
      "[   4.    3.  750.   16.] 0.0\n",
      "[    2.     4.  1000.    16.] 0.0\n",
      "[   2.    3.  750.    9.] 1.0\n",
      "[   11.     8.  2000.    52.] 0.0\n",
      "[    2.     6.  1500.    22.] 0.0\n",
      "[  23.    3.  750.   48.] 0.0\n",
      "[  21.    3.  750.   26.] 0.0\n",
      "[  23.    2.  500.   28.] 0.0\n",
      "[   9.    1.  250.    9.] 0.0\n",
      "[    7.    10.  2500.    47.] 0.0\n",
      "[   14.     4.  1000.    26.] 0.0\n",
      "[   10.     4.  1000.    16.] 0.0\n",
      "[   11.     9.  2250.    38.] 0.0\n",
      "[  1.00000000e+00   7.00000000e+00   1.75000000e+03   5.70000000e+01] 0.0\n",
      "[   4.    1.  250.    4.] 0.0\n",
      "[    4.     4.  1000.    26.] 0.0\n",
      "[  21.    3.  750.   35.] 0.0\n",
      "[   11.     5.  1250.    35.] 0.0\n",
      "[  16.    1.  250.   16.] 0.0\n",
      "[    4.     9.  2250.    38.] 0.0\n",
      "[    3.     5.  1250.    12.] 1.0\n",
      "[   2.    1.  250.    2.] 1.0\n",
      "[   16.    10.  2500.    89.] 0.0\n",
      "[  23.    1.  250.   23.] 0.0\n",
      "[   2.    1.  250.    2.] 1.0\n",
      "[   2.    1.  250.    2.] 1.0\n",
      "[  14.    1.  250.   14.] 0.0\n",
      "[  2.00000000e+00   1.50000000e+01   3.75000000e+03   4.90000000e+01] 1.0\n",
      "[   23.     4.  1000.    52.] 0.0\n",
      "[    7.    12.  3000.    86.] 0.0\n",
      "[   4.    2.  500.   59.] 0.0\n",
      "[  23.    1.  250.   23.] 0.0\n",
      "[  4.00000000e+00   3.30000000e+01   8.25000000e+03   9.80000000e+01] 1.0\n",
      "[   16.     6.  1500.    50.] 0.0\n",
      "[   4.    1.  250.    4.] 0.0\n",
      "[   16.    10.  2500.    62.] 0.0\n",
      "[   11.    10.  2500.    35.] 0.0\n",
      "[    4.     9.  2250.    28.] 1.0\n",
      "[  16.    1.  250.   16.] 0.0\n",
      "[  2.00000000e+00   1.00000000e+01   2.50000000e+03   4.90000000e+01] 0.0\n",
      "[    8.     9.  2250.    58.] 0.0\n",
      "[  23.    1.  250.   23.] 0.0\n",
      "[   2.    3.  750.   38.] 0.0\n",
      "[  2.00000000e+00   9.00000000e+00   2.25000000e+03   7.40000000e+01] 0.0\n",
      "[  21.    1.  250.   21.] 0.0\n",
      "[    2.     6.  1500.    22.] 0.0\n",
      "[    2.     4.  1000.    26.] 0.0\n",
      "[   11.    14.  3500.    73.] 0.0\n",
      "[   9.    2.  500.   26.] 0.0\n",
      "[  14.    2.  500.   21.] 0.0\n",
      "[   4.    2.  500.    9.] 0.0\n",
      "[   2.    3.  750.   35.] 0.0\n",
      "[    4.    11.  2750.    28.] 1.0\n",
      "[    9.    11.  2750.    49.] 0.0\n",
      "[  14.    1.  250.   14.] 0.0\n",
      "[    2.     8.  2000.    28.] 0.0\n",
      "[  16.    3.  750.   50.] 0.0\n",
      "[    8.    10.  2500.    63.] 0.0\n",
      "[  14.    2.  500.   16.] 0.0\n",
      "[   2.    2.  500.    4.] 1.0\n",
      "[   21.    13.  3250.    57.] 0.0\n",
      "[  11.    3.  750.   15.] 0.0\n",
      "[    4.     7.  1750.    82.] 0.0\n",
      "[  2.00000000e+00   1.00000000e+01   2.50000000e+03   6.40000000e+01] 0.0\n",
      "[   4.    1.  250.    4.] 0.0\n",
      "[  2.00000000e+00   1.30000000e+01   3.25000000e+03   7.60000000e+01] 0.0\n",
      "[  14.    2.  500.   14.] 0.0\n",
      "[    8.     8.  2000.    52.] 0.0\n",
      "[  16.    2.  500.   16.] 0.0\n",
      "[   4.    1.  250.    4.] 0.0\n",
      "[  11.    3.  750.   76.] 0.0\n",
      "[  23.    1.  250.   23.] 0.0\n",
      "[  14.    3.  750.   33.] 0.0\n",
      "[  11.    1.  250.   11.] 0.0\n",
      "[  23.    1.  250.   23.] 0.0\n",
      "[   23.     8.  2000.    46.] 0.0\n",
      "[   14.    16.  4000.    98.] 0.0\n",
      "[   2.    1.  250.    2.] 1.0\n",
      "[    8.    15.  3750.    77.] 0.0\n",
      "[   2.    1.  250.    2.] 1.0\n",
      "[   4.    2.  500.    9.] 0.0\n",
      "[  2.00000000e+00   1.60000000e+01   4.00000000e+03   6.40000000e+01] 0.0\n",
      "[    4.     4.  1000.    34.] 0.0\n",
      "[   12.     9.  2250.    60.] 0.0\n",
      "[  21.    2.  500.   52.] 0.0\n",
      "[  11.    2.  500.   38.] 0.0\n",
      "[  16.    3.  750.   21.] 0.0\n",
      "[    4.     7.  1750.    62.] 0.0\n",
      "[   2.    1.  250.    2.] 1.0\n",
      "[   11.     8.  2000.    46.] 0.0\n",
      "[   4.    3.  750.   71.] 0.0\n",
      "[    6.    22.  5500.    28.] 1.0\n",
      "[   11.     5.  1250.    38.] 0.0\n",
      "[    4.     6.  1500.    52.] 0.0\n",
      "[   4.    3.  750.   25.] 0.0\n",
      "[    2.     4.  1000.    14.] 0.0\n",
      "[   4.    2.  500.   29.] 0.0\n",
      "[  2.00000000e+00   1.00000000e+01   2.50000000e+03   2.80000000e+01] 1.0\n",
      "[   2.    1.  250.    2.] 1.0\n",
      "[   11.    22.  5500.    98.] 0.0\n",
      "[   11.     6.  1500.    71.] 0.0\n",
      "[   23.     4.  1000.    53.] 0.0\n",
      "[  23.    2.  500.   26.] 0.0\n",
      "[    4.    16.  4000.    38.] 1.0\n",
      "[   2.    1.  250.    2.] 1.0\n",
      "[  11.    3.  750.   40.] 0.0\n",
      "[  16.    1.  250.   16.] 0.0\n",
      "[   4.    1.  250.    4.] 0.0\n",
      "[   2.    2.  500.    4.] 1.0\n",
      "[   4.    2.  500.    4.] 1.0\n",
      "[    4.    10.  2500.    28.] 1.0\n",
      "[    2.     4.  1000.    14.] 0.0\n",
      "[    2.     6.  1500.    75.] 0.0\n",
      "[  11.    1.  250.   11.] 0.0\n",
      "[  11.    3.  750.   76.] 0.0\n",
      "[    4.     5.  1250.    74.] 0.0\n",
      "[  11.    3.  750.   37.] 0.0\n",
      "[   11.     5.  1250.    35.] 0.0\n",
      "[  16.    3.  750.   34.] 0.0\n",
      "[    3.     4.  1000.    29.] 0.0\n",
      "[   11.     8.  2000.    72.] 0.0\n",
      "[    2.     5.  1250.    11.] 1.0\n",
      "[  16.    1.  250.   16.] 0.0\n",
      "[    4.     5.  1250.    46.] 0.0\n",
      "[   11.     8.  2000.    48.] 0.0\n",
      "[    2.     7.  1750.    14.] 1.0\n",
      "[  16.    3.  750.   86.] 0.0\n",
      "[   14.     7.  1750.    73.] 0.0\n",
      "[    2.     5.  1250.    26.] 0.0\n",
      "[   2.    3.  750.   14.] 0.0\n",
      "[  21.    2.  500.   35.] 0.0\n",
      "[  21.    3.  750.   35.] 0.0\n",
      "[   4.    2.  500.    4.] 1.0\n",
      "[   14.     4.  1000.    57.] 0.0\n",
      "[   2.    2.  500.   33.] 0.0\n",
      "[  11.    2.  500.   17.] 0.0\n",
      "[   4.    1.  250.    4.] 0.0\n",
      "[  21.    2.  500.   33.] 0.0\n",
      "[   2.    1.  250.    2.] 1.0\n",
      "[   11.     6.  1500.    26.] 0.0\n",
      "[   4.    1.  250.    4.] 0.0\n",
      "[    4.     7.  1750.    52.] 0.0\n",
      "[   2.    1.  250.    2.] 1.0\n",
      "[  38.    1.  250.   38.] 0.0\n",
      "[   2.    2.  500.   14.] 0.0\n",
      "[  40.    1.  250.   40.] 0.0\n",
      "[   2.    2.  500.   10.] 0.0\n",
      "[   10.     8.  2000.    39.] 0.0\n",
      "[   2.    1.  250.    2.] 1.0\n",
      "[    4.     6.  1500.    41.] 0.0\n",
      "[  23.    1.  250.   23.] 0.0\n",
      "[  14.    3.  750.   28.] 0.0\n",
      "[   2.    2.  500.   16.] 0.0\n",
      "[  23.    1.  250.   23.] 0.0\n",
      "[  3.00000000e+00   1.70000000e+01   4.25000000e+03   8.60000000e+01] 0.0\n",
      "[    7.     5.  1250.    52.] 0.0\n",
      "[   11.     5.  1250.    41.] 0.0\n",
      "[  16.    2.  500.   26.] 0.0\n",
      "[    2.     7.  1750.    35.] 0.0\n",
      "[  14.    1.  250.   14.] 0.0\n",
      "[   2.    3.  750.   22.] 0.0\n",
      "[  2.00000000e+00   5.00000000e+01   1.25000000e+04   9.80000000e+01] 1.0\n",
      "[  2.00000000e+00   9.00000000e+00   2.25000000e+03   3.60000000e+01] 0.0\n",
      "[   2.    1.  250.    2.] 1.0\n",
      "[    3.     5.  1250.    38.] 0.0\n",
      "[   16.     6.  1500.    40.] 0.0\n",
      "[    3.     5.  1250.    26.] 0.0\n",
      "[    4.     6.  1500.    35.] 0.0\n",
      "[    4.     8.  2000.    28.] 0.0\n"
     ]
    }
   ],
   "source": [
    "for x in X_test:\n",
    "  print(x , clf.predict([x])[0])"
   ]
  },
  {
   "cell_type": "code",
   "execution_count": 22,
   "metadata": {},
   "outputs": [
    {
     "data": {
      "text/plain": [
       "0.7533333333333333"
      ]
     },
     "execution_count": 22,
     "metadata": {},
     "output_type": "execute_result"
    }
   ],
   "source": [
    "clf.score(X_test, y_test)"
   ]
  },
  {
   "cell_type": "code",
   "execution_count": null,
   "metadata": {},
   "outputs": [],
   "source": []
  }
 ],
 "metadata": {
  "kernelspec": {
   "display_name": "Python 3",
   "language": "python",
   "name": "python3"
  },
  "language_info": {
   "codemirror_mode": {
    "name": "ipython",
    "version": 3
   },
   "file_extension": ".py",
   "mimetype": "text/x-python",
   "name": "python",
   "nbconvert_exporter": "python",
   "pygments_lexer": "ipython3",
   "version": "3.6.3"
  }
 },
 "nbformat": 4,
 "nbformat_minor": 2
}
